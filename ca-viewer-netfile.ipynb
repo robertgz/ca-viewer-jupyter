{
 "cells": [
  {
   "cell_type": "markdown",
   "id": "815713b0",
   "metadata": {},
   "source": [
    "## Agencies"
   ]
  },
  {
   "cell_type": "markdown",
   "id": "50c0a66b",
   "metadata": {},
   "source": [
    "#### Download Agencies"
   ]
  },
  {
   "cell_type": "code",
   "execution_count": null,
   "id": "4599b493",
   "metadata": {},
   "outputs": [],
   "source": [
    "%load_ext autoreload"
   ]
  },
  {
   "cell_type": "code",
   "execution_count": null,
   "id": "639f3a81",
   "metadata": {},
   "outputs": [],
   "source": [
    "%autoreload 2\n",
    "from agency import get_agency_list\n",
    "\n",
    "agencies = get_agency_list()"
   ]
  },
  {
   "cell_type": "code",
   "execution_count": null,
   "id": "1d4c0135",
   "metadata": {},
   "outputs": [],
   "source": [
    "# Show one agency\n",
    "agencies[1]"
   ]
  },
  {
   "cell_type": "code",
   "execution_count": null,
   "id": "0602ed18",
   "metadata": {},
   "outputs": [],
   "source": [
    "# Show all agencies\n",
    "agencies"
   ]
  },
  {
   "cell_type": "markdown",
   "id": "3d9ea79a",
   "metadata": {},
   "source": [
    "#### Show agencies in a dataframe"
   ]
  },
  {
   "cell_type": "code",
   "execution_count": null,
   "id": "ae18ad1c",
   "metadata": {},
   "outputs": [],
   "source": [
    "import pandas as pd\n",
    "df = pd.DataFrame(agencies)\n",
    "df\n",
    "df[['shortcut', 'name', 'isCounty']] #.to_list()"
   ]
  },
  {
   "cell_type": "code",
   "execution_count": null,
   "id": "a5a89596",
   "metadata": {},
   "outputs": [],
   "source": [
    "# Show the county agencies \n",
    "df.loc[df['isCounty'] == True]"
   ]
  },
  {
   "cell_type": "code",
   "execution_count": null,
   "id": "c0fd2b6d",
   "metadata": {},
   "outputs": [],
   "source": [
    "# Show the non county agencies \n",
    "df.loc[df['isCounty'] == False]"
   ]
  },
  {
   "cell_type": "markdown",
   "id": "4511de76",
   "metadata": {},
   "source": [
    "## Filings"
   ]
  },
  {
   "cell_type": "markdown",
   "id": "06ff34b3",
   "metadata": {},
   "source": [
    "#### Download Filings"
   ]
  },
  {
   "cell_type": "code",
   "execution_count": null,
   "id": "90928aee",
   "metadata": {},
   "outputs": [],
   "source": [
    "# test function get_filings\n",
    "from filing import get_filings\n",
    "\n",
    "agencyShortcut = 'ANA'\n",
    "page = 0\n",
    "filing_response = get_filings(agencyShortcut, page)\n",
    "filing_response['filings']"
   ]
  },
  {
   "cell_type": "code",
   "execution_count": null,
   "id": "516ce26a",
   "metadata": {},
   "outputs": [],
   "source": [
    "# run downloadAllFilingsGen an store results in a list\n",
    "from filing import get_all_agency_filings\n",
    "\n",
    "agencyShortcut = 'CCV'\n",
    "\n",
    "filing_list = get_all_agency_filings(agencyShortcut)\n",
    "filing_list"
   ]
  },
  {
   "cell_type": "code",
   "execution_count": null,
   "id": "e7d9c824",
   "metadata": {},
   "outputs": [],
   "source": [
    "# filter filings by those with summaries\n",
    "from filing import get_summary_filings\n",
    "\n",
    "print(f'Number of filings: {len(filing_list)}')\n",
    "summary_filing_list = get_summary_filings(filing_list)\n",
    "print(f'Number of summary filings: {len(summary_filing_list)}')"
   ]
  },
  {
   "cell_type": "code",
   "execution_count": null,
   "id": "eb6a66ce",
   "metadata": {},
   "outputs": [],
   "source": [
    "# filter filings by those that are eFiled\n",
    "from filing import get_efiled_filings\n",
    "\n",
    "efiled_filings = get_efiled_filings(summary_filing_list)\n",
    "print(f'Number of efiled summary filings: {len(efiled_filings)}')"
   ]
  },
  {
   "cell_type": "code",
   "execution_count": null,
   "id": "cb74a612",
   "metadata": {},
   "outputs": [],
   "source": [
    "# add filingYear to filings\n",
    "from filing import add_filing_year\n",
    "\n",
    "efiled_filings_with_year = add_filing_year(efiled_filings)\n",
    "efiled_filings_with_year"
   ]
  },
  {
   "cell_type": "code",
   "execution_count": null,
   "id": "ccf9220a",
   "metadata": {},
   "outputs": [],
   "source": [
    "# show filings in a DataFrame\n",
    "import pandas as pd\n",
    "\n",
    "filing_df = pd.DataFrame(efiled_filings_with_year)\n",
    "filing_df"
   ]
  },
  {
   "cell_type": "code",
   "execution_count": null,
   "id": "1640f9db",
   "metadata": {},
   "outputs": [],
   "source": [
    "# Get a dataFrame of unique filers from filings { filerName, filerLocalId }\n",
    "import pandas as pd\n",
    "\n",
    "filing_df = pd.DataFrame(filing_list)\n",
    "# filing_filers = filing_df[['filerName', 'filerLocalId']].drop_duplicates(subset=['filerLocalId'])\n",
    "filing_filers = filing_df[['filerName', 'filerLocalId']].drop_duplicates()\n",
    "filing_filers"
   ]
  },
  {
   "cell_type": "code",
   "execution_count": null,
   "id": "19830296",
   "metadata": {},
   "outputs": [],
   "source": [
    "# get unique years of filings from list efiled_filings_with_year\n",
    "import pandas as pd\n",
    "filing_years = pd.DataFrame(efiled_filings_with_year)[['year']].drop_duplicates()\n",
    "\n",
    "filing_years"
   ]
  },
  {
   "cell_type": "markdown",
   "id": "a48fdf2a",
   "metadata": {},
   "source": [
    "## Summaries"
   ]
  },
  {
   "cell_type": "code",
   "execution_count": null,
   "id": "e37d565a",
   "metadata": {},
   "outputs": [],
   "source": [
    "%autoreload 2\n",
    "\n",
    "from summary import get_all_agency_year_summaries\n",
    "\n",
    "agencyShortcut = 'CCV'\n",
    "year = '2023'\n",
    "# page = 0\n",
    "summaries_response_json = get_all_agency_year_summaries(agencyShortcut, year)\n",
    "print(f'Number of summaries: {len(summaries_response_json)}, for {year}')\n",
    "summaries_response_json"
   ]
  },
  {
   "cell_type": "code",
   "execution_count": null,
   "id": "eeb9ca7d",
   "metadata": {},
   "outputs": [],
   "source": [
    "# show summaries in a DataFrame\n",
    "import pandas as pd\n",
    "\n",
    "summary_df = pd.DataFrame(summaries_response_json).drop_duplicates()\n",
    "summary_df"
   ]
  },
  {
   "cell_type": "code",
   "execution_count": null,
   "id": "55002ccf",
   "metadata": {},
   "outputs": [],
   "source": [
    "import pandas as pd\n",
    "\n",
    "# Remove duplicates from API\n",
    "# summary_df = pd.DataFrame(summaries_response_json).drop_duplicates()\n",
    "# summary_df\n",
    "\n",
    "summary_filers = pd.DataFrame(summaries_response_json).drop_duplicates()[['filerName', 'filerLocalId']].drop_duplicates()\n",
    "print(f'Number of summary filers: {len(summary_filers)}, for {year}')\n",
    "\n",
    "summary_filers"
   ]
  },
  {
   "cell_type": "code",
   "execution_count": null,
   "id": "dd69e06a",
   "metadata": {},
   "outputs": [],
   "source": [
    "# How should multple years of summaries be combined?\n",
    "existing_summaries = []\n",
    "# def add_summaries(existing, new_summaries)\n",
    "#     for each i in new_summaries add only if not in existing"
   ]
  }
 ],
 "metadata": {
  "kernelspec": {
   "display_name": "Python 3 (ipykernel)",
   "language": "python",
   "name": "python3"
  }
 },
 "nbformat": 4,
 "nbformat_minor": 5
}
